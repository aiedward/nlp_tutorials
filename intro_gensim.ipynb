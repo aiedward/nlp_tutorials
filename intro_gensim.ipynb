{
 "cells": [
  {
   "cell_type": "code",
   "execution_count": 1,
   "metadata": {
    "collapsed": true
   },
   "outputs": [],
   "source": [
    "from gensim.models import Word2Vec"
   ]
  },
  {
   "cell_type": "code",
   "execution_count": 2,
   "metadata": {
    "collapsed": true
   },
   "outputs": [],
   "source": [
    "bin_file='/Users/arman/word2vec-mac/vectors.bin'\n",
    "model = Word2Vec.load_word2vec_format(bin_file, binary=True)"
   ]
  },
  {
   "cell_type": "markdown",
   "metadata": {},
   "source": [
    "### Try the followings:"
   ]
  },
  {
   "cell_type": "code",
   "execution_count": 3,
   "metadata": {
    "collapsed": false
   },
   "outputs": [
    {
     "data": {
      "text/plain": [
       "[('france', 0.5196207761764526),\n",
       " ('belgium', 0.503353476524353),\n",
       " ('switzerland', 0.4783351421356201),\n",
       " ('netherlands', 0.43961939215660095),\n",
       " ('germany', 0.43092644214630127),\n",
       " ('spain', 0.4166962504386902),\n",
       " ('luxembourg', 0.4046187996864319),\n",
       " ('poissy', 0.40096890926361084),\n",
       " ('anterselva', 0.39855581521987915),\n",
       " ('ghent', 0.3946520686149597)]"
      ]
     },
     "execution_count": 3,
     "metadata": {},
     "output_type": "execute_result"
    }
   ],
   "source": [
    "model.most_similar(positive=['italy', 'paris'], negative=['rome'])"
   ]
  },
  {
   "cell_type": "code",
   "execution_count": 4,
   "metadata": {
    "collapsed": false
   },
   "outputs": [
    {
     "data": {
      "text/plain": [
       "[('grandmother', 0.6169962286949158),\n",
       " ('paternal', 0.6016992926597595),\n",
       " ('grandparents', 0.6010604500770569),\n",
       " ('clytemnestra', 0.551709771156311),\n",
       " ('livia', 0.5436491966247559),\n",
       " ('niece', 0.5430512428283691),\n",
       " ('uncle', 0.542066216468811),\n",
       " ('siblings', 0.5365633368492126),\n",
       " ('cousin', 0.5325353145599365),\n",
       " ('aunt', 0.5313519239425659)]"
      ]
     },
     "execution_count": 4,
     "metadata": {},
     "output_type": "execute_result"
    }
   ],
   "source": [
    "model.most_similar(positive=['grandfather','mother'],negative=['father'])\n",
    "\n"
   ]
  },
  {
   "cell_type": "code",
   "execution_count": 5,
   "metadata": {
    "collapsed": false
   },
   "outputs": [
    {
     "data": {
      "text/plain": [
       "[('moon', 0.45611095428466797),\n",
       " ('sky', 0.44355136156082153),\n",
       " ('planet', 0.41315507888793945),\n",
       " ('penumbra', 0.40174463391304016),\n",
       " ('earth', 0.4008573293685913),\n",
       " ('orbit', 0.38683050870895386),\n",
       " ('stars', 0.37469831109046936),\n",
       " ('star', 0.37204569578170776),\n",
       " ('orbited', 0.36725711822509766),\n",
       " ('shines', 0.36202704906463623)]"
      ]
     },
     "execution_count": 5,
     "metadata": {},
     "output_type": "execute_result"
    }
   ],
   "source": [
    "model.most_similar(positive=['night', 'sun'], negative=['day'])"
   ]
  },
  {
   "cell_type": "code",
   "execution_count": 6,
   "metadata": {
    "collapsed": false
   },
   "outputs": [
    {
     "data": {
      "text/plain": [
       "[('aircraft', 0.4351119101047516),\n",
       " ('usaf', 0.4198461174964905),\n",
       " ('sulphur', 0.41753703355789185),\n",
       " ('tankers', 0.415522038936615),\n",
       " ('refueling', 0.4153955578804016),\n",
       " ('aircrew', 0.4133361279964447),\n",
       " ('force', 0.4132561683654785),\n",
       " ('helicopters', 0.40959489345550537),\n",
       " ('airliner', 0.4093279540538788),\n",
       " ('usaaf', 0.4003691077232361)]"
      ]
     },
     "execution_count": 6,
     "metadata": {},
     "output_type": "execute_result"
    }
   ],
   "source": [
    "model.most_similar(positive=['air', 'car'], negative=['street'])\n"
   ]
  },
  {
   "cell_type": "code",
   "execution_count": 7,
   "metadata": {
    "collapsed": false
   },
   "outputs": [
    {
     "data": {
      "text/plain": [
       "[('warm', 0.5112459659576416),\n",
       " ('winters', 0.4805816411972046),\n",
       " ('dry', 0.4719161093235016),\n",
       " ('hot', 0.46762076020240784),\n",
       " ('wet', 0.4517703652381897),\n",
       " ('mild', 0.43643802404403687),\n",
       " ('summers', 0.4337451457977295),\n",
       " ('cool', 0.42903345823287964),\n",
       " ('humid', 0.4109804928302765),\n",
       " ('cloudy', 0.3974928855895996)]"
      ]
     },
     "execution_count": 7,
     "metadata": {},
     "output_type": "execute_result"
    }
   ],
   "source": [
    "model.most_similar(positive=['small','cold'],negative=['large'])"
   ]
  },
  {
   "cell_type": "code",
   "execution_count": 8,
   "metadata": {
    "collapsed": false
   },
   "outputs": [
    {
     "data": {
      "text/plain": [
       "[('painting', 0.31739097833633423),\n",
       " ('baroque', 0.28513896465301514),\n",
       " ('architectural', 0.27554619312286377),\n",
       " ('alberti', 0.268780380487442),\n",
       " ('antiproton', 0.2659834027290344),\n",
       " ('architecture', 0.2656795382499695),\n",
       " ('audience', 0.2637186050415039),\n",
       " ('sculptures', 0.25843268632888794),\n",
       " ('idealization', 0.2583766579627991),\n",
       " ('sculpture', 0.25550577044487)]"
      ]
     },
     "execution_count": 8,
     "metadata": {},
     "output_type": "execute_result"
    }
   ],
   "source": [
    "model.most_similar(positive=['art','experiment'],negative=['science'])"
   ]
  },
  {
   "cell_type": "code",
   "execution_count": 9,
   "metadata": {
    "collapsed": false
   },
   "outputs": [
    {
     "data": {
      "text/plain": [
       "[('cars', 0.5231117010116577),\n",
       " ('racing', 0.4547455608844757),\n",
       " ('motorcycles', 0.426320344209671),\n",
       " ('motorcycle', 0.42629945278167725),\n",
       " ('vehicles', 0.395269513130188),\n",
       " ('driver', 0.38971585035324097),\n",
       " ('trucks', 0.3887791633605957),\n",
       " ('automobile', 0.38580387830734253),\n",
       " ('bmw', 0.36683720350265503),\n",
       " ('limousines', 0.36580947041511536)]"
      ]
     },
     "execution_count": 9,
     "metadata": {},
     "output_type": "execute_result"
    }
   ],
   "source": [
    "model.most_similar(positive=['men','car'],negative=['man'])"
   ]
  },
  {
   "cell_type": "code",
   "execution_count": null,
   "metadata": {
    "collapsed": true
   },
   "outputs": [],
   "source": []
  }
 ],
 "metadata": {
  "kernelspec": {
   "display_name": "Python 3",
   "language": "python",
   "name": "python3"
  },
  "language_info": {
   "codemirror_mode": {
    "name": "ipython",
    "version": 3
   },
   "file_extension": ".py",
   "mimetype": "text/x-python",
   "name": "python",
   "nbconvert_exporter": "python",
   "pygments_lexer": "ipython3",
   "version": "3.5.1"
  }
 },
 "nbformat": 4,
 "nbformat_minor": 0
}
