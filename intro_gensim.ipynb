{
 "cells": [
  {
   "cell_type": "code",
   "execution_count": 1,
   "metadata": {
    "collapsed": true
   },
   "outputs": [],
   "source": [
    "from pprint import pprint"
   ]
  },
  {
   "cell_type": "code",
   "execution_count": 2,
   "metadata": {
    "collapsed": true
   },
   "outputs": [],
   "source": [
    "from gensim.models import Word2Vec"
   ]
  },
  {
   "cell_type": "code",
   "execution_count": 3,
   "metadata": {
    "collapsed": true
   },
   "outputs": [],
   "source": [
    "file2='/Users/arman/word2vec-mac/vectors.bin'\n",
    "model = Word2Vec.load_word2vec_format(file2, binary=True)"
   ]
  },
  {
   "cell_type": "markdown",
   "metadata": {},
   "source": [
    "```python\n",
    "model.most_similar(positive=['italy', 'paris'], negative=['rome'])\n",
    "\n",
    "model.most_similar(positive=['grandfather','mother'],negative=['father'])\n",
    "\n",
    "model.most_similar(positive=['night', 'sun'], negative=['day'])\n",
    "\n",
    "model.most_similar(positive=['air', 'car'], negative=['street'])\n",
    "\n",
    "model.most_similar(positive=['small','cold'],negative=['large'])\n",
    "\n",
    "model.most_similar(positive=['art','experiment'],negative=['science'])\n",
    "\n",
    "model.most_similar(positive=['mathematics','einstein'],negative=['physics'])\n",
    "\n",
    "model.most_similar(positive=['men','car'],negative=['man'])\n",
    "\n",
    "model.most_similar(positive=['great','mathematics'],negative=['good'])\n",
    "model.most_similar(positive=['blue','friends'],negative=['colors'])\n",
    "```"
   ]
  },
  {
   "cell_type": "code",
   "execution_count": 12,
   "metadata": {
    "collapsed": false
   },
   "outputs": [],
   "source": [
    "model.most_similar(positive=['italy', 'paris'], negative=['rome']);"
   ]
  },
  {
   "cell_type": "code",
   "execution_count": 13,
   "metadata": {
    "collapsed": false
   },
   "outputs": [],
   "source": [
    "model.most_similar(positive=['grandfather','mother'],negative=['father']);\n"
   ]
  },
  {
   "cell_type": "code",
   "execution_count": 14,
   "metadata": {
    "collapsed": false
   },
   "outputs": [],
   "source": [
    "model.most_similar(positive=['grandfather','mother'],negative=['father']);"
   ]
  },
  {
   "cell_type": "code",
   "execution_count": 15,
   "metadata": {
    "collapsed": false
   },
   "outputs": [],
   "source": [
    "model.most_similar(positive=['mathematics','einstein'],negative=['physics']);"
   ]
  },
  {
   "cell_type": "code",
   "execution_count": null,
   "metadata": {
    "collapsed": true
   },
   "outputs": [],
   "source": []
  }
 ],
 "metadata": {
  "kernelspec": {
   "display_name": "Python 3",
   "language": "python",
   "name": "python3"
  },
  "language_info": {
   "codemirror_mode": {
    "name": "ipython",
    "version": 3
   },
   "file_extension": ".py",
   "mimetype": "text/x-python",
   "name": "python",
   "nbconvert_exporter": "python",
   "pygments_lexer": "ipython3",
   "version": "3.5.1"
  }
 },
 "nbformat": 4,
 "nbformat_minor": 0
}
